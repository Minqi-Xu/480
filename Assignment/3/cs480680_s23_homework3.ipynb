{
 "cells": [
  {
   "cell_type": "markdown",
   "id": "81122543-63f5-4594-96fa-3daba199c15e",
   "metadata": {
    "id": "81122543-63f5-4594-96fa-3daba199c15e"
   },
   "source": [
    "# CS480/680, Spring 2023, Assignment 3\n",
    "## Designer: Chengjie Huang; Instructor: Hongyang Zhang\n",
    "Released: June 26; Due: July 16, noon\n",
    "\n",
    "Notes:\n",
    "* Please save a copy of this notebook to avoid losing your changes.\n",
    "* Debug your code and ensure that it can run.\n",
    "* Save the output of each cell. Failure to do so may result in your coding questions not being graded.\n",
    "* To accelerate the training time, you can use Google Colab and choose 'Runtime' -> 'Change runtime type' -> 'Hardware accelerator' and set 'Hardware accelerator' to 'GPU'. This assignment may be more time-consuming, so you may need to plan ahead and leave enough time for model training."
   ]
  },
  {
   "cell_type": "code",
   "execution_count": null,
   "id": "6e09fd8f",
   "metadata": {
    "colab": {
     "base_uri": "https://localhost:8080/"
    },
    "id": "6e09fd8f",
    "outputId": "2371c35f-6d08-4638-86e4-be9c5fbad67e"
   },
   "outputs": [
    {
     "name": "stdout",
     "output_type": "stream",
     "text": [
      "Collecting transformers\n",
      "  Downloading transformers-4.31.0-py3-none-any.whl (7.4 MB)\n",
      "\u001b[2K     \u001b[90m━━━━━━━━━━━━━━━━━━━━━━━━━━━━━━━━━━━━━━━━\u001b[0m \u001b[32m7.4/7.4 MB\u001b[0m \u001b[31m40.5 MB/s\u001b[0m eta \u001b[36m0:00:00\u001b[0m\n",
      "\u001b[?25hCollecting datasets\n",
      "  Downloading datasets-2.13.1-py3-none-any.whl (486 kB)\n",
      "\u001b[2K     \u001b[90m━━━━━━━━━━━━━━━━━━━━━━━━━━━━━━━━━━━━━━\u001b[0m \u001b[32m486.2/486.2 kB\u001b[0m \u001b[31m36.9 MB/s\u001b[0m eta \u001b[36m0:00:00\u001b[0m\n",
      "\u001b[?25hRequirement already satisfied: filelock in /usr/local/lib/python3.10/dist-packages (from transformers) (3.12.2)\n",
      "Collecting huggingface-hub<1.0,>=0.14.1 (from transformers)\n",
      "  Downloading huggingface_hub-0.16.4-py3-none-any.whl (268 kB)\n",
      "\u001b[2K     \u001b[90m━━━━━━━━━━━━━━━━━━━━━━━━━━━━━━━━━━━━━━\u001b[0m \u001b[32m268.8/268.8 kB\u001b[0m \u001b[31m23.6 MB/s\u001b[0m eta \u001b[36m0:00:00\u001b[0m\n",
      "\u001b[?25hRequirement already satisfied: numpy>=1.17 in /usr/local/lib/python3.10/dist-packages (from transformers) (1.22.4)\n",
      "Requirement already satisfied: packaging>=20.0 in /usr/local/lib/python3.10/dist-packages (from transformers) (23.1)\n",
      "Requirement already satisfied: pyyaml>=5.1 in /usr/local/lib/python3.10/dist-packages (from transformers) (6.0)\n",
      "Requirement already satisfied: regex!=2019.12.17 in /usr/local/lib/python3.10/dist-packages (from transformers) (2022.10.31)\n",
      "Requirement already satisfied: requests in /usr/local/lib/python3.10/dist-packages (from transformers) (2.27.1)\n",
      "Collecting tokenizers!=0.11.3,<0.14,>=0.11.1 (from transformers)\n",
      "  Downloading tokenizers-0.13.3-cp310-cp310-manylinux_2_17_x86_64.manylinux2014_x86_64.whl (7.8 MB)\n",
      "\u001b[2K     \u001b[90m━━━━━━━━━━━━━━━━━━━━━━━━━━━━━━━━━━━━━━━━\u001b[0m \u001b[32m7.8/7.8 MB\u001b[0m \u001b[31m58.1 MB/s\u001b[0m eta \u001b[36m0:00:00\u001b[0m\n",
      "\u001b[?25hCollecting safetensors>=0.3.1 (from transformers)\n",
      "  Downloading safetensors-0.3.1-cp310-cp310-manylinux_2_17_x86_64.manylinux2014_x86_64.whl (1.3 MB)\n",
      "\u001b[2K     \u001b[90m━━━━━━━━━━━━━━━━━━━━━━━━━━━━━━━━━━━━━━━━\u001b[0m \u001b[32m1.3/1.3 MB\u001b[0m \u001b[31m49.0 MB/s\u001b[0m eta \u001b[36m0:00:00\u001b[0m\n",
      "\u001b[?25hRequirement already satisfied: tqdm>=4.27 in /usr/local/lib/python3.10/dist-packages (from transformers) (4.65.0)\n",
      "Requirement already satisfied: pyarrow>=8.0.0 in /usr/local/lib/python3.10/dist-packages (from datasets) (9.0.0)\n",
      "Collecting dill<0.3.7,>=0.3.0 (from datasets)\n",
      "  Downloading dill-0.3.6-py3-none-any.whl (110 kB)\n",
      "\u001b[2K     \u001b[90m━━━━━━━━━━━━━━━━━━━━━━━━━━━━━━━━━━━━━━\u001b[0m \u001b[32m110.5/110.5 kB\u001b[0m \u001b[31m13.3 MB/s\u001b[0m eta \u001b[36m0:00:00\u001b[0m\n",
      "\u001b[?25hRequirement already satisfied: pandas in /usr/local/lib/python3.10/dist-packages (from datasets) (1.5.3)\n",
      "Collecting xxhash (from datasets)\n",
      "  Downloading xxhash-3.2.0-cp310-cp310-manylinux_2_17_x86_64.manylinux2014_x86_64.whl (212 kB)\n",
      "\u001b[2K     \u001b[90m━━━━━━━━━━━━━━━━━━━━━━━━━━━━━━━━━━━━━━\u001b[0m \u001b[32m212.5/212.5 kB\u001b[0m \u001b[31m24.3 MB/s\u001b[0m eta \u001b[36m0:00:00\u001b[0m\n",
      "\u001b[?25hCollecting multiprocess (from datasets)\n",
      "  Downloading multiprocess-0.70.14-py310-none-any.whl (134 kB)\n",
      "\u001b[2K     \u001b[90m━━━━━━━━━━━━━━━━━━━━━━━━━━━━━━━━━━━━━━\u001b[0m \u001b[32m134.3/134.3 kB\u001b[0m \u001b[31m18.1 MB/s\u001b[0m eta \u001b[36m0:00:00\u001b[0m\n",
      "\u001b[?25hRequirement already satisfied: fsspec[http]>=2021.11.1 in /usr/local/lib/python3.10/dist-packages (from datasets) (2023.6.0)\n",
      "Requirement already satisfied: aiohttp in /usr/local/lib/python3.10/dist-packages (from datasets) (3.8.4)\n",
      "Requirement already satisfied: attrs>=17.3.0 in /usr/local/lib/python3.10/dist-packages (from aiohttp->datasets) (23.1.0)\n",
      "Requirement already satisfied: charset-normalizer<4.0,>=2.0 in /usr/local/lib/python3.10/dist-packages (from aiohttp->datasets) (2.0.12)\n",
      "Requirement already satisfied: multidict<7.0,>=4.5 in /usr/local/lib/python3.10/dist-packages (from aiohttp->datasets) (6.0.4)\n",
      "Requirement already satisfied: async-timeout<5.0,>=4.0.0a3 in /usr/local/lib/python3.10/dist-packages (from aiohttp->datasets) (4.0.2)\n",
      "Requirement already satisfied: yarl<2.0,>=1.0 in /usr/local/lib/python3.10/dist-packages (from aiohttp->datasets) (1.9.2)\n",
      "Requirement already satisfied: frozenlist>=1.1.1 in /usr/local/lib/python3.10/dist-packages (from aiohttp->datasets) (1.4.0)\n",
      "Requirement already satisfied: aiosignal>=1.1.2 in /usr/local/lib/python3.10/dist-packages (from aiohttp->datasets) (1.3.1)\n",
      "Requirement already satisfied: typing-extensions>=3.7.4.3 in /usr/local/lib/python3.10/dist-packages (from huggingface-hub<1.0,>=0.14.1->transformers) (4.7.1)\n",
      "Requirement already satisfied: urllib3<1.27,>=1.21.1 in /usr/local/lib/python3.10/dist-packages (from requests->transformers) (1.26.16)\n",
      "Requirement already satisfied: certifi>=2017.4.17 in /usr/local/lib/python3.10/dist-packages (from requests->transformers) (2023.5.7)\n",
      "Requirement already satisfied: idna<4,>=2.5 in /usr/local/lib/python3.10/dist-packages (from requests->transformers) (3.4)\n",
      "Requirement already satisfied: python-dateutil>=2.8.1 in /usr/local/lib/python3.10/dist-packages (from pandas->datasets) (2.8.2)\n",
      "Requirement already satisfied: pytz>=2020.1 in /usr/local/lib/python3.10/dist-packages (from pandas->datasets) (2022.7.1)\n",
      "Requirement already satisfied: six>=1.5 in /usr/local/lib/python3.10/dist-packages (from python-dateutil>=2.8.1->pandas->datasets) (1.16.0)\n",
      "Installing collected packages: tokenizers, safetensors, xxhash, dill, multiprocess, huggingface-hub, transformers, datasets\n",
      "Successfully installed datasets-2.13.1 dill-0.3.6 huggingface-hub-0.16.4 multiprocess-0.70.14 safetensors-0.3.1 tokenizers-0.13.3 transformers-4.31.0 xxhash-3.2.0\n"
     ]
    }
   ],
   "source": [
    "# In addition to numpy, pytorch, and other standard libraries, you will need the following for this assignment\n",
    "!pip install transformers datasets"
   ]
  },
  {
   "cell_type": "markdown",
   "id": "197c4ccf-4e0f-4c29-a326-e739bb0ce957",
   "metadata": {
    "id": "197c4ccf-4e0f-4c29-a326-e739bb0ce957",
    "tags": []
   },
   "source": [
    "## Question 1: Large Language Model (40 pts)\n",
    "Large pre-trained language models such as GPT can be useful for many natural language tasks other than text generation. In this question, we will take a look at one of such tasks: question-answering (QA).\n",
    "\n",
    "In QA task, the model is given some **context** text and a **question** related to the context. The model is tasked to generate the correct answer based on the context and question. For example, a context could be \"Joe enjoys pizza but prefers pasta over anything else\", and given a question \"What's Joe's favorite food\", the model should output \"pasta\".\n",
    "\n",
    "In this question, we will extend and fine-tune a pre-trained large language model (GPT2) to perform question-answering task."
   ]
  },
  {
   "cell_type": "markdown",
   "id": "f10a5a77-1fdb-4e3f-a0dd-c1e9209c3480",
   "metadata": {
    "id": "f10a5a77-1fdb-4e3f-a0dd-c1e9209c3480"
   },
   "source": [
    "### 1.1 SQuAD Dataset (5 pts)"
   ]
  },
  {
   "cell_type": "markdown",
   "id": "178219cb-2779-437f-b1a0-6774b79fa213",
   "metadata": {
    "id": "178219cb-2779-437f-b1a0-6774b79fa213"
   },
   "source": [
    "A popular dataset for question-answering task is the Stanford Question-answering Dataset (SQuAD) ([Rajpurkar, Pranav, et al. \"Squad: 100,000+ questions for machine comprehension of text.\" arXiv preprint arXiv:1606.05250 (2016).](https://arxiv.org/abs/1606.05250)). The code below will automatically download and load the dataset. The training and validation split can be accessed with `squad_dataset['train']` and `squad_dataset['validation']` respectively.\n",
    "\n",
    "First familiarize yourself with the format of the SQuAD dataset.<br>\n",
    "In the following cells, print the size of each split as well as one example from each split in the following format:\n",
    "```\n",
    "Train/validation split: 10000 samples\n",
    "Sample id: 56de57394396321400ea2830\n",
    "Context: Joe enjoys pizza but prefers pasta over anything else\n",
    "Question: What's Joe's favorite food\n",
    "Answer: pasta\n",
    "```"
   ]
  },
  {
   "cell_type": "code",
   "execution_count": null,
   "id": "2b1e73de-db8b-4cab-b23e-7557fbbb6194",
   "metadata": {
    "colab": {
     "base_uri": "https://localhost:8080/",
     "height": 273,
     "referenced_widgets": [
      "86c8f6d0619443b9b06486caa3f4e4ac",
      "569d95aa1acf4f68886f99047095c0e0",
      "6ebefeae64274d259abf6d5eedf34870",
      "874649ac320444a3ada91056fa302dcd",
      "0c9ba24b317244119255b31753489967",
      "28f021d0a784493ca08a5bbedd8ce7e1",
      "24c30fbc4d214c47889ab8ea0fc166c3",
      "3911c88568ba4a3785aade7cafaa2e46",
      "93fa49d5633a413ebc2980613523922b",
      "47ad35ba6b634619b0b70eb9e7f2f841",
      "d25dd1534ef549e39fdc61bf35793cbe"
     ]
    },
    "id": "2b1e73de-db8b-4cab-b23e-7557fbbb6194",
    "outputId": "0990a27f-b7e8-42c1-cca4-86c9899e9fd1"
   },
   "outputs": [
    {
     "name": "stderr",
     "output_type": "stream",
     "text": [
      "WARNING:datasets.builder:Found cached dataset squad (/root/.cache/huggingface/datasets/squad/plain_text/1.0.0/d6ec3ceb99ca480ce37cdd35555d6cb2511d223b9150cce08a837ef62ffea453)\n"
     ]
    },
    {
     "data": {
      "application/vnd.jupyter.widget-view+json": {
       "model_id": "86c8f6d0619443b9b06486caa3f4e4ac",
       "version_major": 2,
       "version_minor": 0
      },
      "text/plain": [
       "  0%|          | 0/2 [00:00<?, ?it/s]"
      ]
     },
     "metadata": {},
     "output_type": "display_data"
    },
    {
     "name": "stdout",
     "output_type": "stream",
     "text": [
      "Train split: 87599 samples\n",
      "Sample id: 5733be284776f41900661182\n",
      "Context: Architecturally, the school has a Catholic character. Atop the Main Building's gold dome is a golden statue of the Virgin Mary. Immediately in front of the Main Building and facing it, is a copper statue of Christ with arms upraised with the legend \"Venite Ad Me Omnes\". Next to the Main Building is the Basilica of the Sacred Heart. Immediately behind the basilica is the Grotto, a Marian place of prayer and reflection. It is a replica of the grotto at Lourdes, France where the Virgin Mary reputedly appeared to Saint Bernadette Soubirous in 1858. At the end of the main drive (and in a direct line that connects through 3 statues and the Gold Dome), is a simple, modern stone statue of Mary.\n",
      "Question: To whom did the Virgin Mary allegedly appear in 1858 in Lourdes France?\n",
      "Answer: Saint Bernadette Soubirous\n",
      "\n",
      "Validation split: 10570samples\n",
      "Sample id: 56be4db0acb8001400a502ec\n",
      "Context: Super Bowl 50 was an American football game to determine the champion of the National Football League (NFL) for the 2015 season. The American Football Conference (AFC) champion Denver Broncos defeated the National Football Conference (NFC) champion Carolina Panthers 24–10 to earn their third Super Bowl title. The game was played on February 7, 2016, at Levi's Stadium in the San Francisco Bay Area at Santa Clara, California. As this was the 50th Super Bowl, the league emphasized the \"golden anniversary\" with various gold-themed initiatives, as well as temporarily suspending the tradition of naming each Super Bowl game with Roman numerals (under which the game would have been known as \"Super Bowl L\"), so that the logo could prominently feature the Arabic numerals 50.\n",
      "Question: Which NFL team represented the AFC at Super Bowl 50?\n",
      "Answer: Denver Broncos\n"
     ]
    }
   ],
   "source": [
    "from datasets import load_dataset\n",
    "squad_dataset = load_dataset(\"squad\")\n",
    "\n",
    "####################################################################################\n",
    "# IMPLEMENT ME!\n",
    "#raise NotImplementedError\n",
    "train_size = len(squad_dataset['train'])\n",
    "validation_size = len(squad_dataset['validation'])\n",
    "\n",
    "train_example = squad_dataset['train'][0]\n",
    "validation_example = squad_dataset['validation'][0]\n",
    "\n",
    "print(\"Train split: \" + str(train_size) + \" samples\")\n",
    "print(\"Sample id: \" + train_example['id'])\n",
    "print(\"Context: \" + train_example['context'])\n",
    "print(\"Question: \" + train_example['question'])\n",
    "print(\"Answer: \" + train_example['answers']['text'][0])\n",
    "\n",
    "print(\"\\nValidation split: \" + str(validation_size) + \"samples\")\n",
    "print(\"Sample id: \" + validation_example['id'])\n",
    "print(\"Context: \" + validation_example['context'])\n",
    "print(\"Question: \" + validation_example['question'])\n",
    "print(\"Answer: \" + validation_example['answers']['text'][0])\n",
    "####################################################################################"
   ]
  },
  {
   "cell_type": "markdown",
   "id": "55b93436-a0f3-43dd-aa4b-80551db546a1",
   "metadata": {
    "id": "55b93436-a0f3-43dd-aa4b-80551db546a1"
   },
   "source": [
    "### 1.2 Extending GPT2 for question-answering task (25 pts)\n",
    "In this part, we will extend the GPT2 model to produce answers from the context based on the questions. To make use of the pre-trained GPT2 model, we will treat it as a feature extractor to compute token-wise feature vectors and add additional MLP layers to process the features for the QA task. These additional task-specific layers are sometimes called **\"adapters\"**.\n",
    "\n",
    "Use the skeleton code below and implement the following three core components:\n",
    "1. **[5 pts] Add additional MLP layer(s) to predict the location of the answer within the input.** <br>You can formulate this problem however you see fit. Below are two possible options:\n",
    "    * Classify the start and end locations of the answer. For example, given a input text of length 5 after tokenization, suppose the answer starts at token `2` and ends at token `4`, the model should predict `[0 0 1 0 0]` and `[0 0 0 0 1]` as the start and end location respectively.\n",
    "    * Directly regress the start and end locations, or the start location + length of the answer.<br><br>\n",
    "2. **[10 pts] Use the additional layer(s) to compute the location of the answer**\n",
    "3. **[10 pts] Implement task-specific loss for question-answering** <br>Depending on the approach you choose to implement (classification vs. regression), you need to use the appropriate loss.\n",
    "\n",
    "Unlike image data, text input can have varying length, which makes batch training and loss computation more challenging.\n",
    "For simplicity, you can assume the batch size is 1 in this question. I.e., the `question`, `context` and `answer` belong to a single sample in the dataset."
   ]
  },
  {
   "cell_type": "code",
   "execution_count": null,
   "id": "e054aabd-32b5-42c8-88cb-8dd4cfc2107b",
   "metadata": {
    "id": "e054aabd-32b5-42c8-88cb-8dd4cfc2107b",
    "tags": []
   },
   "outputs": [],
   "source": [
    "import torch\n",
    "import torch.nn as nn\n",
    "from transformers import GPT2TokenizerFast, GPT2Model\n",
    "\n",
    "class GPT2QuestionAnswering(nn.Module):\n",
    "    def __init__(self):\n",
    "        super().__init__()\n",
    "        self.tokenizer = GPT2TokenizerFast.from_pretrained('gpt2')\n",
    "        self.gpt2 = GPT2Model.from_pretrained('gpt2')\n",
    "\n",
    "        ####################################################################################\n",
    "        # IMPLEMENT ME!\n",
    "        # Add additional layers for predicting the location of the answer\n",
    "        #raise NotImplementedError\n",
    "        self.additional_layer = nn.Linear(self.gpt2.config.hidden_size, 2)\n",
    "        ####################################################################################\n",
    "\n",
    "    def forward(self, question, context, answer=None):\n",
    "        inputs = self.tokenizer(question, context, return_tensors='pt', return_offsets_mapping=True)\n",
    "        input_ids = inputs.input_ids[:,:self.gpt2.config.n_positions]\n",
    "        attention_mask = inputs.attention_mask[:,:self.gpt2.config.n_positions]\n",
    "        if torch.cuda.is_available:\n",
    "            input_ids = input_ids.cuda()\n",
    "            attention_mask = attention_mask.cuda()\n",
    "        features = self.gpt2(input_ids=input_ids, attention_mask=attention_mask)['last_hidden_state']\n",
    "\n",
    "        ####################################################################################\n",
    "        # IMPLEMENT ME!\n",
    "        # Using the additional layers to compute location of the answer based on the hidden state features\n",
    "        # raise NotImplementedError\n",
    "        token = self.additional_layer(features)\n",
    "        start_token, end_token = token.split(1, dim=-1)\n",
    "        start_token = start_token.squeeze(-1)\n",
    "        end_token = end_token.squeeze(-1)\n",
    "        ####################################################################################\n",
    "\n",
    "        if self.training:\n",
    "            ####################################################################################\n",
    "            # IMPLEMENT ME!\n",
    "            # In training mode, we want to return the loss based on the ground truth answer\n",
    "            # You may change the\n",
    "\n",
    "            return self.loss(answer, start_token, end_token, inputs.offset_mapping)\n",
    "            ####################################################################################\n",
    "        else:\n",
    "            ####################################################################################\n",
    "            # IMPLEMENT ME!\n",
    "            # In inference mode, we want to return the answer string based on the predicted start and end indices\n",
    "            answer_start_index = torch.argmax(start_token)\n",
    "            answer_end_index = torch.argmax(end_token)\n",
    "            ####################################################################################\n",
    "            return self.tokenizer.decode(inputs.input_ids[0, answer_start_index : answer_end_index + 1]).strip()\n",
    "\n",
    "\n",
    "    ####################################################################################\n",
    "    # IMPLEMENT ME!\n",
    "    def loss(self, answer, start_token, end_token, offset_mapping):\n",
    "        # Compute the loss based on the answers\n",
    "        # Tip1: If you choose the classification approach, then you need the start and end locations\n",
    "        #       of the answer within the **tokenized** input as your classification target.\n",
    "        #       You may need to use inputs.offset_mapping from the input tokenization.\n",
    "        #       See https://huggingface.co/docs/transformers/main_classes/tokenizer#transformers.PreTrainedTokenizerFast.__call__.return_offsets_mapping\n",
    "        # Tip2: If you choose the regression approach, then you can use answer['answer_start']\n",
    "        #       and length of the answer as your regression target.\n",
    "\n",
    "        start_location = answer['answer_start']\n",
    "        end_location = answer['answer_end']\n",
    "\n",
    "        # tokenize the input\n",
    "        start_location_t = offset_mapping[0][start_location]\n",
    "        end_location_t = offset_mapping[0][end_location]\n",
    "\n",
    "        target = torch.zeros_like(start_token)\n",
    "        target[start_location_t: end_location_t + 1] = 1\n",
    "\n",
    "        loss = nn.BCEWithLogitsLoss()\n",
    "        start_loss = loss(start_token.unsqueeze(0), target.unsqueeze(0))\n",
    "        end_loss = loss(end_token.unsqueeze(0), target.unsqueeze(0))\n",
    "\n",
    "        total_loss = start_loss + end_loss\n",
    "        return total_loss\n",
    "    ####################################################################################"
   ]
  },
  {
   "cell_type": "markdown",
   "id": "9b1cbf58-fd50-4264-8f55-a3cd43d9d353",
   "metadata": {
    "id": "9b1cbf58-fd50-4264-8f55-a3cd43d9d353"
   },
   "source": [
    "We can evaluate the pre-trained model's performance on the validation split. Since the model has not been adapted to the question-answering task yet, and additional untrained layers have been added, we expect the model to perform poorly.\n",
    "\n",
    "In question-answering task, we use two evaluation metrics:\n",
    "* **Exact match**: the percentage of predictions that match the ground truth answer exactly\n",
    "* **F1 score**: the average overlap (in terms of tokens) between the prediction and ground truth answer\n",
    "\n",
    "Higher values are better for both metrics. For reference, humans can achieve 77.0% exact match and 86.8% F1 score, while SOTA method achieves 90% exact match and over 95% F1 score."
   ]
  },
  {
   "cell_type": "code",
   "execution_count": null,
   "id": "17f71c98-258a-46f3-bbd6-53b17ea4e6e6",
   "metadata": {
    "id": "17f71c98-258a-46f3-bbd6-53b17ea4e6e6"
   },
   "outputs": [],
   "source": [
    "def evaluate(model, dataset, metric):\n",
    "    from tqdm.autonotebook import tqdm\n",
    "    model = model.eval()\n",
    "    preds = []\n",
    "    for idx, data in enumerate(tqdm(dataset['validation'])):\n",
    "        preds.append(dict(id=data['id'], prediction_text=model(data['question'], data['context'], data['answers'])))\n",
    "    references = [dict(answers=data['answers'], id=data['id']) for data in dataset['validation']]\n",
    "    return metric.compute(predictions=preds, references=references)"
   ]
  },
  {
   "cell_type": "code",
   "execution_count": null,
   "id": "e0a9a2ef-dfee-4b74-9cb1-d890020b2139",
   "metadata": {
    "colab": {
     "base_uri": "https://localhost:8080/",
     "height": 66,
     "referenced_widgets": [
      "1d688b6d29a14b9f8cd4472bbacc2d1e",
      "eafc09e9d105468b960223dc5a8e851c",
      "edcd810a79604ae08ab8ac59f6cff353",
      "4ba7c72074414947a7563477d838cad9",
      "f05568ab1e7d46e3b2edef996e907f94",
      "1db6ee9c58e946baa3ae8edae3ae7a56",
      "b3d10ccf12e14a65a48229e47774d4ba",
      "ef2d14120bd54e1eb27b6f7d6f7e4144",
      "2a8f6c8493644090b23e31678049ba22",
      "9a55dc89ccdf49448ed221a337085d4b",
      "95994340c8eb49849c734b95d9bb037b"
     ]
    },
    "id": "e0a9a2ef-dfee-4b74-9cb1-d890020b2139",
    "outputId": "93f95d39-e789-48f2-9200-3bd7d89f94bd"
   },
   "outputs": [
    {
     "data": {
      "application/vnd.jupyter.widget-view+json": {
       "model_id": "1d688b6d29a14b9f8cd4472bbacc2d1e",
       "version_major": 2,
       "version_minor": 0
      },
      "text/plain": [
       "  0%|          | 0/10570 [00:00<?, ?it/s]"
      ]
     },
     "metadata": {},
     "output_type": "display_data"
    },
    {
     "data": {
      "text/plain": [
       "{'exact_match': 0.03784295175023652, 'f1': 2.148446168806923}"
      ]
     },
     "execution_count": 22,
     "metadata": {},
     "output_type": "execute_result"
    }
   ],
   "source": [
    "from datasets import load_metric\n",
    "\n",
    "squad_metric = load_metric('squad')\n",
    "model = GPT2QuestionAnswering()\n",
    "if torch.cuda.is_available:\n",
    "    model = model.cuda()\n",
    "\n",
    "evaluate(model, squad_dataset, squad_metric)"
   ]
  },
  {
   "cell_type": "markdown",
   "id": "27911c9c-d884-409c-8f6c-4dfa37c19bba",
   "metadata": {
    "id": "27911c9c-d884-409c-8f6c-4dfa37c19bba"
   },
   "source": [
    "### 1.3 Fine-tuning GPT2 on Squad (10 pts)\n",
    "To adapt a pre-trained model to a specific downstream task (in this case the question-answering task), a common technique is to **\"fine-tune\"** the model. Fine-tuning simply means training the model using task-specific data, typically with shorter epochs and smaller learning rates. Certain part of the model (e.g., pre-trained layers or early layers) can also be frozen, meaning the weights are not updated during training.\n",
    "\n",
    "In this part, we will fine-tune the model on SQuAD dataset.<br>\n",
    "In the cell below, implement the training loop and record the loss values in a list to be plotted later.\n",
    "\n",
    "**Note:** due to the size of the model and dataset, it is not required to train for too many iterations since this question will not be graded purely based on the performance of your model.\n",
    "\n",
    "##### Optional Objectives\n",
    "* **Freezing GPT2 Layers:** Depending on the additional layers you added to the network in the previous part, you may choose to freeze the pre-trained GPT2 layers during fine-tuning. In PyTorch, this can be achieved by setting `requires_grad=False` for the layers of interest. You are encouraged to try both and note your observations.\n",
    "* **Gradient Accumulation:** The model from previous question is not suitable for batch training, which could increase the stochasiticy of the training process and make convergence slower. One way to circumvent this problem is via gradient accumulation, wherein the gradient is accumulated for multiple iterations before the weights are updated, which increases the effective batch size. In PyTorch, this can be implemented by accumulating the loss and performing `zero_grad()` and `step()` every few iterations instead of every iteration."
   ]
  },
  {
   "cell_type": "code",
   "execution_count": 40,
   "id": "a518b645-df0b-4a4f-8308-def9e94dc4eb",
   "metadata": {
    "colab": {
     "base_uri": "https://localhost:8080/",
     "height": 410,
     "referenced_widgets": [
      "26de403b6b4143059033516746d5dce7",
      "cef53a93662e4628812739d63e6b6077",
      "2a5b9d273a0a48959c9eb6d6dd778332",
      "57ed57d346a4406294a05091b2562023",
      "ed4e113c315f482c9066815647ac2aa1",
      "5162ce4dfb90453c81caf4768df02853",
      "6b36844bdfa8470b911c869bb2d5c8d5",
      "7d481e110bcb4d968e08636909cb9ce5",
      "a59ca022f1d44abe874325f0f1d9d714",
      "5acf9f76d8094744af4ad993fab4c405",
      "05c6a35d0b6943219d2ce76f0b2dd624"
     ]
    },
    "id": "a518b645-df0b-4a4f-8308-def9e94dc4eb",
    "outputId": "15976dbf-e3d3-4591-f037-c8ff4551ae1c",
    "scrolled": true
   },
   "outputs": [
    {
     "data": {
      "application/vnd.jupyter.widget-view+json": {
       "model_id": "26de403b6b4143059033516746d5dce7",
       "version_major": 2,
       "version_minor": 0
      },
      "text/plain": [
       "  0%|          | 0/87599 [00:00<?, ?it/s]"
      ]
     },
     "metadata": {},
     "output_type": "display_data"
    },
    {
     "ename": "IndexError",
     "evalue": "ignored",
     "output_type": "error",
     "traceback": [
      "\u001b[0;31m---------------------------------------------------------------------------\u001b[0m",
      "\u001b[0;31mIndexError\u001b[0m                                Traceback (most recent call last)",
      "\u001b[0;32m<ipython-input-40-a5308f157179>\u001b[0m in \u001b[0;36m<cell line: 11>\u001b[0;34m()\u001b[0m\n\u001b[1;32m     26\u001b[0m                   'answer_end': data['answers']['answer_start'][0] + len(data['answers']['text'][0])}\n\u001b[1;32m     27\u001b[0m \u001b[0;34m\u001b[0m\u001b[0m\n\u001b[0;32m---> 28\u001b[0;31m         \u001b[0mloss\u001b[0m \u001b[0;34m=\u001b[0m \u001b[0mmodel\u001b[0m\u001b[0;34m(\u001b[0m\u001b[0mquestion\u001b[0m\u001b[0;34m,\u001b[0m \u001b[0mcontext\u001b[0m\u001b[0;34m,\u001b[0m \u001b[0manswer\u001b[0m\u001b[0;34m)\u001b[0m\u001b[0;34m\u001b[0m\u001b[0;34m\u001b[0m\u001b[0m\n\u001b[0m\u001b[1;32m     29\u001b[0m \u001b[0;34m\u001b[0m\u001b[0m\n\u001b[1;32m     30\u001b[0m         \u001b[0moptimizer\u001b[0m\u001b[0;34m.\u001b[0m\u001b[0mzero_grad\u001b[0m\u001b[0;34m(\u001b[0m\u001b[0;34m)\u001b[0m\u001b[0;34m\u001b[0m\u001b[0;34m\u001b[0m\u001b[0m\n",
      "\u001b[0;32m/usr/local/lib/python3.10/dist-packages/torch/nn/modules/module.py\u001b[0m in \u001b[0;36m_call_impl\u001b[0;34m(self, *args, **kwargs)\u001b[0m\n\u001b[1;32m   1499\u001b[0m                 \u001b[0;32mor\u001b[0m \u001b[0m_global_backward_pre_hooks\u001b[0m \u001b[0;32mor\u001b[0m \u001b[0m_global_backward_hooks\u001b[0m\u001b[0;34m\u001b[0m\u001b[0;34m\u001b[0m\u001b[0m\n\u001b[1;32m   1500\u001b[0m                 or _global_forward_hooks or _global_forward_pre_hooks):\n\u001b[0;32m-> 1501\u001b[0;31m             \u001b[0;32mreturn\u001b[0m \u001b[0mforward_call\u001b[0m\u001b[0;34m(\u001b[0m\u001b[0;34m*\u001b[0m\u001b[0margs\u001b[0m\u001b[0;34m,\u001b[0m \u001b[0;34m**\u001b[0m\u001b[0mkwargs\u001b[0m\u001b[0;34m)\u001b[0m\u001b[0;34m\u001b[0m\u001b[0;34m\u001b[0m\u001b[0m\n\u001b[0m\u001b[1;32m   1502\u001b[0m         \u001b[0;31m# Do not call functions when jit is used\u001b[0m\u001b[0;34m\u001b[0m\u001b[0;34m\u001b[0m\u001b[0m\n\u001b[1;32m   1503\u001b[0m         \u001b[0mfull_backward_hooks\u001b[0m\u001b[0;34m,\u001b[0m \u001b[0mnon_full_backward_hooks\u001b[0m \u001b[0;34m=\u001b[0m \u001b[0;34m[\u001b[0m\u001b[0;34m]\u001b[0m\u001b[0;34m,\u001b[0m \u001b[0;34m[\u001b[0m\u001b[0;34m]\u001b[0m\u001b[0;34m\u001b[0m\u001b[0;34m\u001b[0m\u001b[0m\n",
      "\u001b[0;32m<ipython-input-15-59f9f7a02c2e>\u001b[0m in \u001b[0;36mforward\u001b[0;34m(self, question, context, answer)\u001b[0m\n\u001b[1;32m     41\u001b[0m             \u001b[0;31m# You may change the\u001b[0m\u001b[0;34m\u001b[0m\u001b[0;34m\u001b[0m\u001b[0m\n\u001b[1;32m     42\u001b[0m \u001b[0;34m\u001b[0m\u001b[0m\n\u001b[0;32m---> 43\u001b[0;31m             \u001b[0;32mreturn\u001b[0m \u001b[0mself\u001b[0m\u001b[0;34m.\u001b[0m\u001b[0mloss\u001b[0m\u001b[0;34m(\u001b[0m\u001b[0manswer\u001b[0m\u001b[0;34m,\u001b[0m \u001b[0mstart_token\u001b[0m\u001b[0;34m,\u001b[0m \u001b[0mend_token\u001b[0m\u001b[0;34m,\u001b[0m \u001b[0minputs\u001b[0m\u001b[0;34m.\u001b[0m\u001b[0moffset_mapping\u001b[0m\u001b[0;34m)\u001b[0m\u001b[0;34m\u001b[0m\u001b[0;34m\u001b[0m\u001b[0m\n\u001b[0m\u001b[1;32m     44\u001b[0m             \u001b[0;31m####################################################################################\u001b[0m\u001b[0;34m\u001b[0m\u001b[0;34m\u001b[0m\u001b[0m\n\u001b[1;32m     45\u001b[0m         \u001b[0;32melse\u001b[0m\u001b[0;34m:\u001b[0m\u001b[0;34m\u001b[0m\u001b[0;34m\u001b[0m\u001b[0m\n",
      "\u001b[0;32m<ipython-input-15-59f9f7a02c2e>\u001b[0m in \u001b[0;36mloss\u001b[0;34m(self, answer, start_token, end_token, offset_mapping)\u001b[0m\n\u001b[1;32m     69\u001b[0m \u001b[0;34m\u001b[0m\u001b[0m\n\u001b[1;32m     70\u001b[0m         \u001b[0;31m# tokenize the input\u001b[0m\u001b[0;34m\u001b[0m\u001b[0;34m\u001b[0m\u001b[0m\n\u001b[0;32m---> 71\u001b[0;31m         \u001b[0mstart_location_t\u001b[0m \u001b[0;34m=\u001b[0m \u001b[0moffset_mapping\u001b[0m\u001b[0;34m[\u001b[0m\u001b[0;36m0\u001b[0m\u001b[0;34m]\u001b[0m\u001b[0;34m[\u001b[0m\u001b[0mstart_location\u001b[0m\u001b[0;34m]\u001b[0m\u001b[0;34m\u001b[0m\u001b[0;34m\u001b[0m\u001b[0m\n\u001b[0m\u001b[1;32m     72\u001b[0m         \u001b[0mend_location_t\u001b[0m \u001b[0;34m=\u001b[0m \u001b[0moffset_mapping\u001b[0m\u001b[0;34m[\u001b[0m\u001b[0;36m0\u001b[0m\u001b[0;34m]\u001b[0m\u001b[0;34m[\u001b[0m\u001b[0mend_location\u001b[0m\u001b[0;34m]\u001b[0m\u001b[0;34m\u001b[0m\u001b[0;34m\u001b[0m\u001b[0m\n\u001b[1;32m     73\u001b[0m \u001b[0;34m\u001b[0m\u001b[0m\n",
      "\u001b[0;31mIndexError\u001b[0m: index 838 is out of bounds for dimension 0 with size 253"
     ]
    }
   ],
   "source": [
    "from tqdm.autonotebook import tqdm\n",
    "losses = []\n",
    "\n",
    "####################################################################################\n",
    "# IMPLEMENT ME!\n",
    "num_epochs = 3\n",
    "optimizer = torch.optim.Adam(model.parameters(), lr=0.00001)\n",
    "####################################################################################\n",
    "\n",
    "model = model.train()\n",
    "for e in range(num_epochs):\n",
    "    # Shuffle dataset in each epoch\n",
    "    indices = torch.randperm(train_size).tolist()\n",
    "\n",
    "    # tqdm gives you a nice little progress bar\n",
    "    pbar = tqdm(indices)\n",
    "    for i, idx in enumerate(pbar):\n",
    "        # Obtain data from training split\n",
    "        data = squad_dataset['train'][idx]\n",
    "        # print(data)\n",
    "        ####################################################################################\n",
    "        # IMPLEMENT ME!\n",
    "        question = data['question']\n",
    "        context = data['context']\n",
    "        answer = {'answer_start': data['answers']['answer_start'][0],\n",
    "                  'answer_end': data['answers']['answer_start'][0] + len(data['answers']['text'][0])}\n",
    "\n",
    "        loss = model(question, context, answer)\n",
    "\n",
    "        optimizer.zero_grad()\n",
    "        loss.backward()\n",
    "        optimizer.step()\n",
    "        ####################################################################################\n",
    "\n",
    "        # Record loss values\n",
    "        losses.append(loss.item())\n",
    "        pbar.set_postfix(loss=loss.item())"
   ]
  },
  {
   "cell_type": "markdown",
   "id": "fdb2c7ff",
   "metadata": {
    "id": "fdb2c7ff"
   },
   "source": [
    "Plot the loss values over the iterations."
   ]
  },
  {
   "cell_type": "code",
   "execution_count": 41,
   "id": "9fa4770f-a581-4bbe-8cf1-c9f5ac746295",
   "metadata": {
    "colab": {
     "base_uri": "https://localhost:8080/",
     "height": 407
    },
    "id": "9fa4770f-a581-4bbe-8cf1-c9f5ac746295",
    "outputId": "ffd703d5-8225-4ce9-abe1-7968f25c129e"
   },
   "outputs": [
    {
     "data": {
      "image/png": "[encoded data removed]",
      "text/plain": [
       "<Figure size 576x432 with 1 Axes>"
      ]
     },
     "metadata": {},
     "output_type": "display_data"
    }
   ],
   "source": [
    "import matplotlib.pyplot as plt\n",
    "plt.figure(dpi=90)\n",
    "plt.plot(losses)\n",
    "plt.xlabel('Iterations')\n",
    "plt.ylabel('Loss')\n",
    "plt.show()"
   ]
  },
  {
   "cell_type": "markdown",
   "id": "7def8913",
   "metadata": {
    "id": "7def8913"
   },
   "source": [
    "Evaluate the model performance after fine-tuning. You should see a much higher score compared to the previous results.\n",
    "\n",
    "**Note:** this question will not be graded based on the performance of your model. However, together with the code and the loss plot in the previous parts, the performance will be used to judge if the fine-tuning is implemented properly."
   ]
  },
  {
   "cell_type": "code",
   "execution_count": null,
   "id": "30489235-e642-412e-a366-16000e15c10a",
   "metadata": {
    "id": "30489235-e642-412e-a366-16000e15c10a"
   },
   "outputs": [],
   "source": [
    "evaluate(model, squad_dataset, squad_metric)"
   ]
  },
  {
   "cell_type": "markdown",
   "id": "5081a3dd",
   "metadata": {
    "id": "5081a3dd"
   },
   "source": [
    "Try the model using your own text and question. Can it give you the correct answer?"
   ]
  },
  {
   "cell_type": "code",
   "execution_count": null,
   "id": "38b541e7",
   "metadata": {
    "id": "38b541e7"
   },
   "outputs": [],
   "source": [
    "model('Your question', 'Your context')"
   ]
  },
  {
   "cell_type": "markdown",
   "id": "fd40a4bb",
   "metadata": {
    "id": "fd40a4bb",
    "tags": []
   },
   "source": [
    "## Question 2: GAN (60 pts)\n",
    "In this question, you will be designing and training a GAN for image generation.\n",
    "\n",
    "Training a GAN for image generation can be computationally demanding. Luckily, MNIST dataset provides 28x28 images of handwritten digits, allowing a GAN to be trained more quickly. Below are some examples from the digits dataset:"
   ]
  },
  {
   "cell_type": "code",
   "execution_count": 42,
   "id": "a0a033f0",
   "metadata": {
    "colab": {
     "base_uri": "https://localhost:8080/",
     "height": 707
    },
    "id": "a0a033f0",
    "outputId": "af0e26d1-2dbe-4396-9be2-5f5589102602"
   },
   "outputs": [
    {
     "name": "stdout",
     "output_type": "stream",
     "text": [
      "Downloading http://yann.lecun.com/exdb/mnist/train-images-idx3-ubyte.gz\n",
      "Downloading http://yann.lecun.com/exdb/mnist/train-images-idx3-ubyte.gz to ./MNIST/raw/train-images-idx3-ubyte.gz\n"
     ]
    },
    {
     "name": "stderr",
     "output_type": "stream",
     "text": [
      "100%|██████████| 9912422/9912422 [00:00<00:00, 98969052.30it/s]\n"
     ]
    },
    {
     "name": "stdout",
     "output_type": "stream",
     "text": [
      "Extracting ./MNIST/raw/train-images-idx3-ubyte.gz to ./MNIST/raw\n",
      "\n",
      "Downloading http://yann.lecun.com/exdb/mnist/train-labels-idx1-ubyte.gz\n",
      "Downloading http://yann.lecun.com/exdb/mnist/train-labels-idx1-ubyte.gz to ./MNIST/raw/train-labels-idx1-ubyte.gz\n"
     ]
    },
    {
     "name": "stderr",
     "output_type": "stream",
     "text": [
      "100%|██████████| 28881/28881 [00:00<00:00, 40324798.21it/s]\n"
     ]
    },
    {
     "name": "stdout",
     "output_type": "stream",
     "text": [
      "Extracting ./MNIST/raw/train-labels-idx1-ubyte.gz to ./MNIST/raw\n",
      "\n",
      "Downloading http://yann.lecun.com/exdb/mnist/t10k-images-idx3-ubyte.gz\n",
      "Downloading http://yann.lecun.com/exdb/mnist/t10k-images-idx3-ubyte.gz to ./MNIST/raw/t10k-images-idx3-ubyte.gz\n"
     ]
    },
    {
     "name": "stderr",
     "output_type": "stream",
     "text": [
      "100%|██████████| 1648877/1648877 [00:00<00:00, 27360520.46it/s]\n"
     ]
    },
    {
     "name": "stdout",
     "output_type": "stream",
     "text": [
      "Extracting ./MNIST/raw/t10k-images-idx3-ubyte.gz to ./MNIST/raw\n",
      "\n",
      "Downloading http://yann.lecun.com/exdb/mnist/t10k-labels-idx1-ubyte.gz\n",
      "Downloading http://yann.lecun.com/exdb/mnist/t10k-labels-idx1-ubyte.gz to ./MNIST/raw/t10k-labels-idx1-ubyte.gz\n"
     ]
    },
    {
     "name": "stderr",
     "output_type": "stream",
     "text": [
      "100%|██████████| 4542/4542 [00:00<00:00, 14345277.69it/s]\n"
     ]
    },
    {
     "name": "stdout",
     "output_type": "stream",
     "text": [
      "Extracting ./MNIST/raw/t10k-labels-idx1-ubyte.gz to ./MNIST/raw\n",
      "\n"
     ]
    },
    {
     "data": {
      "image/png": "[encoded data removed]",
      "text/plain": [
       "<Figure size 576x432 with 25 Axes>"
      ]
     },
     "metadata": {},
     "output_type": "display_data"
    }
   ],
   "source": [
    "import numpy as np\n",
    "import matplotlib.pyplot as plt\n",
    "from torchvision.datasets import MNIST\n",
    "\n",
    "mnist = MNIST(root='.', download=True)\n",
    "images = np.stack([data[0] for data in mnist]).astype(np.float32)\n",
    "images = images / 128 - 1    # normalize between -1 and 1\n",
    "plt.figure(dpi=90)\n",
    "for i in range(25):\n",
    "    plt.subplot(5, 5, i+1)\n",
    "    plt.imshow(images[np.random.choice(len(images))])\n",
    "    plt.axis('off')\n",
    "plt.show()"
   ]
  },
  {
   "cell_type": "markdown",
   "id": "95181643",
   "metadata": {
    "id": "95181643"
   },
   "source": [
    "**Note:** You are allowed to use other **publicly available** image datasets for this question. If you choose to do so, please include the link to the dataset you use, and replace the cell above to visualize examples from your dataset."
   ]
  },
  {
   "cell_type": "markdown",
   "id": "5f35a59f",
   "metadata": {
    "id": "5f35a59f"
   },
   "source": [
    "### 2.1 Generator and Discriminator (20 pts)\n",
    "In this part, you need to implement a generator and discriminator model using the skeleton code below. Recall that\n",
    "* The **generator** takes a randomly sampled noise $z$ as input and outputs an image with the same size as the dataset\n",
    "* The **discriminator** takes an image as input and performs a binary classification\n",
    "\n",
    "In this case, both the generator and discriminator should be convolutional neural networks (CNNs). You may not use a pretrained network, but other design decisions such as the depth and width of the network are up to you.\n",
    "\n",
    "Depending on the resources available to you, you may choose to implement a small network."
   ]
  },
  {
   "cell_type": "code",
   "execution_count": 78,
   "id": "72903174",
   "metadata": {
    "id": "72903174"
   },
   "outputs": [],
   "source": [
    "import torch\n",
    "import torch.nn as nn\n",
    "import torch.nn.functional as F\n",
    "\n",
    "class Discriminator(nn.Module):\n",
    "    def __init__(self):\n",
    "        super().__init__()\n",
    "        ####################################################################################\n",
    "        # IMPLEMENT ME!\n",
    "        # raise NotImplementedError\n",
    "        self.conv1 = nn.Conv2d(3, 64, kernel_size=4, stride=2, padding=1)\n",
    "        self.conv2 = nn.Conv2d(64, 128, kernel_size=4, stride=2, padding=1)\n",
    "        self.conv3 = nn.Conv2d(128, 256, kernel_size=4, stride=2, padding=1)\n",
    "        self.conv4 = nn.Conv2d(256, 512, kernel_size=4, stride=2, padding=1)\n",
    "        self.conv5 = nn.Conv2d(512, 1, kernel_size=4, stride=1, padding=0)\n",
    "        ####################################################################################\n",
    "\n",
    "    def forward(self, x):\n",
    "        ####################################################################################\n",
    "        # IMPLEMENT ME!\n",
    "        # raise NotImplementedError\n",
    "        x = F.leaky_relu(self.conv1(x), negative_slope = 0.1)\n",
    "        x = F.leaky_relu(self.conv2(x), negative_slope = 0.1)\n",
    "        x = F.leaky_relu(self.conv3(x), negative_slope = 0.1)\n",
    "        x = F.leaky_relu(self.conv4(x), negative_slope = 0.1)\n",
    "        x = self.conv5(x)\n",
    "        return torch.sigmoid(x)\n",
    "        ####################################################################################\n",
    "\n",
    "class Generator(nn.Module):\n",
    "    def __init__(self):\n",
    "        super().__init__()\n",
    "        ####################################################################################\n",
    "        # IMPLEMENT ME!\n",
    "        # raise NotImplementedError\n",
    "        self.deconv1 = nn.ConvTranspose2d(100, 512, kernel_size=4, stride=1, padding=0)\n",
    "        self.deconv2 = nn.ConvTranspose2d(512, 256, kernel_size=4, stride=2, padding=1)\n",
    "        self.deconv3 = nn.ConvTranspose2d(256, 128, kernel_size=4, stride=2, padding=1)\n",
    "        self.deconv4 = nn.ConvTranspose2d(128, 64, kernel_size=4, stride=2, padding=1)\n",
    "        self.deconv5 = nn.ConvTranspose2d(64, 3, kernel_size=4, stride=2, padding=1)\n",
    "        ####################################################################################\n",
    "\n",
    "    def forward(self, x):\n",
    "        ####################################################################################\n",
    "        # IMPLEMENT ME!\n",
    "        # raise NotImplementedError\n",
    "        x = F.relu(self.deconv1(x))\n",
    "        x = F.relu(self.deconv2(x))\n",
    "        x = F.relu(self.deconv3(x))\n",
    "        x = F.relu(self.deconv4(x))\n",
    "        x = self.deconv5(x)\n",
    "        return torch.tanh(x)\n",
    "        ####################################################################################\n",
    "\n",
    "gen = Generator()\n",
    "disc = Discriminator()\n",
    "if torch.cuda.is_available:\n",
    "    gen = gen.cuda()\n",
    "    disc = disc.cuda()"
   ]
  },
  {
   "cell_type": "markdown",
   "id": "2cf520b9",
   "metadata": {
    "id": "2cf520b9"
   },
   "source": [
    "### 2.2 Generate image samples from generator (10 pts)\n",
    "\n",
    "During the training and inference, the generator needs to generate batch of images from random noise.\n",
    "Implement the generation function below.\n",
    "\n",
    "**Note:** This function will later be used in training, therefore you need to be careful and avoid cutting off the gradient accidentally"
   ]
  },
  {
   "cell_type": "code",
   "execution_count": 81,
   "id": "4f010904",
   "metadata": {
    "id": "4f010904"
   },
   "outputs": [],
   "source": [
    "def generate_samples(model, num_samples):\n",
    "    ####################################################################################\n",
    "    # IMPLEMENT ME!\n",
    "    # The shape of the returned samples should be [num_samples, H, W]\n",
    "    # raise NotImplementedError\n",
    "    model.eval()\n",
    "    noise = torch.randn(num_samples, 100, 1, 1)\n",
    "    if torch.cuda.is_available:\n",
    "      noise = noise.cuda()\n",
    "    with torch.no_grad():\n",
    "      samples = model(noise)\n",
    "    model.train()\n",
    "    # samples = torch.movedim(samples, 1, 3)\n",
    "    samples = samples.squeeze().permute(0, 2, 3, 1)\n",
    "    samples = (samples + 1) / 2.0\n",
    "    # print(samples.shape)\n",
    "    return samples\n",
    "    ####################################################################################"
   ]
  },
  {
   "cell_type": "markdown",
   "id": "b4491bbb",
   "metadata": {
    "id": "b4491bbb"
   },
   "source": [
    "Without any training, the samples generated by the generator does not resemble any digit in the dataset."
   ]
  },
  {
   "cell_type": "code",
   "execution_count": 80,
   "id": "4919821c",
   "metadata": {
    "colab": {
     "base_uri": "https://localhost:8080/",
     "height": 384
    },
    "id": "4919821c",
    "outputId": "5b8a8552-332c-434e-dd98-5b9cab4cb5d1"
   },
   "outputs": [
    {
     "name": "stdout",
     "output_type": "stream",
     "text": [
      "torch.Size([25, 64, 64, 3])\n"
     ]
    },
    {
     "data": {
      "image/png": "[encoded data removed]",
      "text/plain": [
       "<Figure size 576x432 with 25 Axes>"
      ]
     },
     "metadata": {},
     "output_type": "display_data"
    }
   ],
   "source": [
    "gen.eval()\n",
    "samples = generate_samples(gen, 25).detach().cpu().numpy()\n",
    "plt.figure(dpi=90)\n",
    "for i in range(25):\n",
    "    plt.subplot(5, 5, i+1)\n",
    "    plt.imshow(samples[i])\n",
    "    plt.axis('off')\n",
    "plt.show()"
   ]
  },
  {
   "cell_type": "markdown",
   "id": "5597cba0",
   "metadata": {
    "id": "5597cba0"
   },
   "source": [
    "### 2.3 GAN training algorithm (25 pts)\n",
    "In this part, you will implement the GAN training algorithm, which involves alternating the training of discriminator and generator.\n",
    "\n",
    "**Note:** You may start with the standard GAN loss ([Goodfellow, Ian, et al. \"Generative adversarial networks.\" Communications of the ACM 63.11 (2020): 139-144.](https://arxiv.org/abs/1406.2661)). If you have extra time and resources, you can explore other GAN formulations that either improves convergence or alleviates the mode-collapse problem. For instance, LSGAN ([Mao, Xudong, et al. \"Least squares generative adversarial networks.\" Proceedings of the IEEE international conference on computer vision. 2017.](https://arxiv.org/abs/1611.04076)) and Wasserstein GAN ([Arjovsky, Martin, Soumith Chintala, and Léon Bottou. \"Wasserstein generative adversarial networks.\" International conference on machine learning. PMLR, 2017.](http://proceedings.mlr.press/v70/arjovsky17a/arjovsky17a.pdf)) are both great options."
   ]
  },
  {
   "cell_type": "code",
   "execution_count": null,
   "id": "c4561303",
   "metadata": {
    "id": "c4561303"
   },
   "outputs": [],
   "source": [
    "def train_gan(gen, disc, images, num_epochs, batch_size):\n",
    "    from tqdm.autonotebook import tqdm\n",
    "    from torch.utils.data import DataLoader\n",
    "\n",
    "    losses_gen = []\n",
    "    losses_disc = []\n",
    "\n",
    "    gen.train()\n",
    "    disc.train()\n",
    "    loader = DataLoader(images, batch_size=batch_size, shuffle=True)\n",
    "\n",
    "    ####################################################################################\n",
    "    # IMPLEMENT ME!\n",
    "\n",
    "    # 1. [5 pts] Build optimizer for each model and choose an appropriate learning rate\n",
    "    #    You may specify different optimizers or learning rates for generator and discrminator\n",
    "    #    to balance the training loss and avoid one model overpowering the other.\n",
    "    #    Ideally we would like to reach an equilibrium between the generator and discriminator.\n",
    "    optimizer_gen = torch.optim.Adam(gen.parameters(), lr=0.0001)\n",
    "    optimizer_disc = torch.optim.Adam(disc.parameters(), lr=0.0001)\n",
    "\n",
    "    pbar = tqdm(range(num_epochs))\n",
    "    for e in pbar:\n",
    "        for i, data_real in enumerate(loader):\n",
    "            if torch.cuda.is_available:\n",
    "                data_real = data_real.cuda()\n",
    "\n",
    "            # 2. Update discriminator\n",
    "            # 2.1. Unfreeze discriminator\n",
    "            disc.train()\n",
    "            disc.requires_grad_(True)\n",
    "\n",
    "            # 2.2. [5 pts] Construct inputs and training labels for discriminator\n",
    "            #      The discriminator training should use both real and fake samples\n",
    "            #      Tip: since we do not want to update the generator, the fake samples\n",
    "            #           need to be detached from the computation graph. You can use\n",
    "            #           detach().clone() for this operation.\n",
    "            inputs_disc = data_real\n",
    "            intput_disc_fake = gen(torch.randn(data_real.size(0)),100,1,1).detach().clone()\n",
    "            labels_disc = torch.ones(data_real.size(0),1)\n",
    "            labels_disc_fake = torch.zeros(data_real.size(0),1)\n",
    "            inputs_disc = torch.cat((inputs_disc, inputs_disc_fake), dim=0)\n",
    "            labels_disc = torch.cat((labels_disc, labels_disc_fake), dim=0)\n",
    "            if torch.cuda.is_available:\n",
    "                inputs_disc = inputs_disc.cuda()\n",
    "                labels_disc = labels_disc.cuda()\n",
    "\n",
    "            # 2.4. [5 pts] Discrminator training\n",
    "            #      This should include loss computation and weight updates\n",
    "            #      You can choose implement standard GAN, LSGAN, or Wasserstein gan loss\n",
    "            loss_disc = ...\n",
    "            losses_disc.append(loss_disc.item())\n",
    "\n",
    "            # 3. Update generator\n",
    "            # 3.1. Freeze discriminator\n",
    "            disc.eval()\n",
    "            disc.requires_grad_(False)\n",
    "\n",
    "            # 3.2. [5 pts] Construct input and training labels for the generator\n",
    "            #      The generator training only uses fake samples, since in this step\n",
    "            #      only the generator will be updated.\n",
    "            #      The training labels should be different from the discriminator\n",
    "            #      labels since we want to optimize the generator in the opposite\n",
    "            #      gradient direction in order to \"fool\" the discriminator.\n",
    "            inputs_gen = torch.randn(data_real.size(0),100,1,1)\n",
    "            labels_gen = torch.ones(data_real.size(0),1)\n",
    "            if torch.cuda.is_available:\n",
    "                inputs_gen = inputs_gen.cuda()\n",
    "                labels_gen = labels_gen.cuda()\n",
    "\n",
    "            # 3.4. [5 pts] Generator training\n",
    "            #      This should include loss computation and weight updates\n",
    "            #      You can choose implement standard GAN, LSGAN, or Wasserstein gan loss\n",
    "            loss_gen = ...\n",
    "            losses_gen.append(loss_gen.item())\n",
    "    ####################################################################################\n",
    "\n",
    "            pbar.set_postfix(loss_gen=losses_gen[-1], loss_disc=losses_disc[-1])\n",
    "    return losses_gen, losses_disc"
   ]
  },
  {
   "cell_type": "markdown",
   "id": "157a8f5a",
   "metadata": {
    "id": "157a8f5a"
   },
   "source": [
    "You may change the number of epochs and batch size based on the time and resources available to you."
   ]
  },
  {
   "cell_type": "code",
   "execution_count": null,
   "id": "37bc784d",
   "metadata": {
    "id": "37bc784d"
   },
   "outputs": [],
   "source": [
    "num_epochs = ...\n",
    "batch_size = ...\n",
    "losses_gen, losses_disc = train_gan(gen, disc, images, num_epochs=num_epochs, batch_size=batch_size)"
   ]
  },
  {
   "cell_type": "markdown",
   "id": "b5711080",
   "metadata": {
    "id": "b5711080"
   },
   "source": [
    "### 2.4 Observations and Analysis (5 pts)\n",
    "\n",
    "**[2.5 pts]** Use the code below to plot the losses for the generator and discriminator. Do you see any problem with the training process?<br> Do you think your GAN has converged? Why and why not?\n",
    "\n",
    "**Answer:**"
   ]
  },
  {
   "cell_type": "code",
   "execution_count": null,
   "id": "6af69544",
   "metadata": {
    "id": "6af69544"
   },
   "outputs": [],
   "source": [
    "plt.figure(dpi=90)\n",
    "plt.plot(losses_disc, label='Dicriminator')\n",
    "plt.plot(losses_gen, label='Generator')\n",
    "plt.xlabel('Iterations')\n",
    "plt.ylabel('Loss')\n",
    "plt.legend()\n",
    "plt.show()"
   ]
  },
  {
   "cell_type": "markdown",
   "id": "d39408d5",
   "metadata": {
    "id": "d39408d5"
   },
   "source": [
    "**[2.5 pts]** Use the code below to visualize some images generated by your GAN. Do you see any problem with the samples generated by your GAN?<br> Do you think your GAN has mode collapse problem? Why and why not?\n",
    "\n",
    "**Answer:**"
   ]
  },
  {
   "cell_type": "code",
   "execution_count": null,
   "id": "33952441",
   "metadata": {
    "id": "33952441"
   },
   "outputs": [],
   "source": [
    "gen.eval()\n",
    "samples = generate_samples(gen, 25).detach().cpu().numpy()\n",
    "plt.figure(dpi=90)\n",
    "for i in range(25):\n",
    "    plt.subplot(5, 5, i+1)\n",
    "    plt.imshow(samples[i])\n",
    "    plt.axis('off')\n",
    "plt.show()"
   ]
  }
 ],
 "metadata": {
  "accelerator": "GPU",
  "colab": {
   "gpuType": "T4",
   "provenance": []
  },
  "kernelspec": {
   "display_name": "Python 3 (ipykernel)",
   "language": "python",
   "name": "python3"
  },
  "language_info": {
   "codemirror_mode": {
    "name": "ipython",
    "version": 3
   },
   "file_extension": ".py",
   "mimetype": "text/x-python",
   "name": "python",
   "nbconvert_exporter": "python",
   "pygments_lexer": "ipython3",
   "version": "3.9.13"
  },
  "widgets": {
   "application/vnd.jupyter.widget-state+json": {
    "05c6a35d0b6943219d2ce76f0b2dd624": {
     "model_module": "@jupyter-widgets/controls",
     "model_module_version": "1.5.0",
     "model_name": "DescriptionStyleModel",
     "state": {
      "_model_module": "@jupyter-widgets/controls",
      "_model_module_version": "1.5.0",
      "_model_name": "DescriptionStyleModel",
      "_view_count": null,
      "_view_module": "@jupyter-widgets/base",
      "_view_module_version": "1.2.0",
      "_view_name": "StyleView",
      "description_width": ""
     }
    },
    "0c9ba24b317244119255b31753489967": {
     "model_module": "@jupyter-widgets/base",
     "model_module_version": "1.2.0",
     "model_name": "LayoutModel",
     "state": {
      "_model_module": "@jupyter-widgets/base",
      "_model_module_version": "1.2.0",
      "_model_name": "LayoutModel",
      "_view_count": null,
      "_view_module": "@jupyter-widgets/base",
      "_view_module_version": "1.2.0",
      "_view_name": "LayoutView",
      "align_content": null,
      "align_items": null,
      "align_self": null,
      "border": null,
      "bottom": null,
      "display": null,
      "flex": null,
      "flex_flow": null,
      "grid_area": null,
      "grid_auto_columns": null,
      "grid_auto_flow": null,
      "grid_auto_rows": null,
      "grid_column": null,
      "grid_gap": null,
      "grid_row": null,
      "grid_template_areas": null,
      "grid_template_columns": null,
      "grid_template_rows": null,
      "height": null,
      "justify_content": null,
      "justify_items": null,
      "left": null,
      "margin": null,
      "max_height": null,
      "max_width": null,
      "min_height": null,
      "min_width": null,
      "object_fit": null,
      "object_position": null,
      "order": null,
      "overflow": null,
      "overflow_x": null,
      "overflow_y": null,
      "padding": null,
      "right": null,
      "top": null,
      "visibility": null,
      "width": null
     }
    },
    "1d688b6d29a14b9f8cd4472bbacc2d1e": {
     "model_module": "@jupyter-widgets/controls",
     "model_module_version": "1.5.0",
     "model_name": "HBoxModel",
     "state": {
      "_dom_classes": [],
      "_model_module": "@jupyter-widgets/controls",
      "_model_module_version": "1.5.0",
      "_model_name": "HBoxModel",
      "_view_count": null,
      "_view_module": "@jupyter-widgets/controls",
      "_view_module_version": "1.5.0",
      "_view_name": "HBoxView",
      "box_style": "",
      "children": [
       "IPY_MODEL_eafc09e9d105468b960223dc5a8e851c",
       "IPY_MODEL_edcd810a79604ae08ab8ac59f6cff353",
       "IPY_MODEL_4ba7c72074414947a7563477d838cad9"
      ],
      "layout": "IPY_MODEL_f05568ab1e7d46e3b2edef996e907f94"
     }
    },
    "1db6ee9c58e946baa3ae8edae3ae7a56": {
     "model_module": "@jupyter-widgets/base",
     "model_module_version": "1.2.0",
     "model_name": "LayoutModel",
     "state": {
      "_model_module": "@jupyter-widgets/base",
      "_model_module_version": "1.2.0",
      "_model_name": "LayoutModel",
      "_view_count": null,
      "_view_module": "@jupyter-widgets/base",
      "_view_module_version": "1.2.0",
      "_view_name": "LayoutView",
      "align_content": null,
      "align_items": null,
      "align_self": null,
      "border": null,
      "bottom": null,
      "display": null,
      "flex": null,
      "flex_flow": null,
      "grid_area": null,
      "grid_auto_columns": null,
      "grid_auto_flow": null,
      "grid_auto_rows": null,
      "grid_column": null,
      "grid_gap": null,
      "grid_row": null,
      "grid_template_areas": null,
      "grid_template_columns": null,
      "grid_template_rows": null,
      "height": null,
      "justify_content": null,
      "justify_items": null,
      "left": null,
      "margin": null,
      "max_height": null,
      "max_width": null,
      "min_height": null,
      "min_width": null,
      "object_fit": null,
      "object_position": null,
      "order": null,
      "overflow": null,
      "overflow_x": null,
      "overflow_y": null,
      "padding": null,
      "right": null,
      "top": null,
      "visibility": null,
      "width": null
     }
    },
    "24c30fbc4d214c47889ab8ea0fc166c3": {
     "model_module": "@jupyter-widgets/controls",
     "model_module_version": "1.5.0",
     "model_name": "DescriptionStyleModel",
     "state": {
      "_model_module": "@jupyter-widgets/controls",
      "_model_module_version": "1.5.0",
      "_model_name": "DescriptionStyleModel",
      "_view_count": null,
      "_view_module": "@jupyter-widgets/base",
      "_view_module_version": "1.2.0",
      "_view_name": "StyleView",
      "description_width": ""
     }
    },
    "26de403b6b4143059033516746d5dce7": {
     "model_module": "@jupyter-widgets/controls",
     "model_module_version": "1.5.0",
     "model_name": "HBoxModel",
     "state": {
      "_dom_classes": [],
      "_model_module": "@jupyter-widgets/controls",
      "_model_module_version": "1.5.0",
      "_model_name": "HBoxModel",
      "_view_count": null,
      "_view_module": "@jupyter-widgets/controls",
      "_view_module_version": "1.5.0",
      "_view_name": "HBoxView",
      "box_style": "",
      "children": [
       "IPY_MODEL_cef53a93662e4628812739d63e6b6077",
       "IPY_MODEL_2a5b9d273a0a48959c9eb6d6dd778332",
       "IPY_MODEL_57ed57d346a4406294a05091b2562023"
      ],
      "layout": "IPY_MODEL_ed4e113c315f482c9066815647ac2aa1"
     }
    },
    "28f021d0a784493ca08a5bbedd8ce7e1": {
     "model_module": "@jupyter-widgets/base",
     "model_module_version": "1.2.0",
     "model_name": "LayoutModel",
     "state": {
      "_model_module": "@jupyter-widgets/base",
      "_model_module_version": "1.2.0",
      "_model_name": "LayoutModel",
      "_view_count": null,
      "_view_module": "@jupyter-widgets/base",
      "_view_module_version": "1.2.0",
      "_view_name": "LayoutView",
      "align_content": null,
      "align_items": null,
      "align_self": null,
      "border": null,
      "bottom": null,
      "display": null,
      "flex": null,
      "flex_flow": null,
      "grid_area": null,
      "grid_auto_columns": null,
      "grid_auto_flow": null,
      "grid_auto_rows": null,
      "grid_column": null,
      "grid_gap": null,
      "grid_row": null,
      "grid_template_areas": null,
      "grid_template_columns": null,
      "grid_template_rows": null,
      "height": null,
      "justify_content": null,
      "justify_items": null,
      "left": null,
      "margin": null,
      "max_height": null,
      "max_width": null,
      "min_height": null,
      "min_width": null,
      "object_fit": null,
      "object_position": null,
      "order": null,
      "overflow": null,
      "overflow_x": null,
      "overflow_y": null,
      "padding": null,
      "right": null,
      "top": null,
      "visibility": null,
      "width": null
     }
    },
    "2a5b9d273a0a48959c9eb6d6dd778332": {
     "model_module": "@jupyter-widgets/controls",
     "model_module_version": "1.5.0",
     "model_name": "FloatProgressModel",
     "state": {
      "_dom_classes": [],
      "_model_module": "@jupyter-widgets/controls",
      "_model_module_version": "1.5.0",
      "_model_name": "FloatProgressModel",
      "_view_count": null,
      "_view_module": "@jupyter-widgets/controls",
      "_view_module_version": "1.5.0",
      "_view_name": "ProgressView",
      "bar_style": "danger",
      "description": "",
      "description_tooltip": null,
      "layout": "IPY_MODEL_7d481e110bcb4d968e08636909cb9ce5",
      "max": 87599,
      "min": 0,
      "orientation": "horizontal",
      "style": "IPY_MODEL_a59ca022f1d44abe874325f0f1d9d714",
      "value": 0
     }
    },
    "2a8f6c8493644090b23e31678049ba22": {
     "model_module": "@jupyter-widgets/controls",
     "model_module_version": "1.5.0",
     "model_name": "ProgressStyleModel",
     "state": {
      "_model_module": "@jupyter-widgets/controls",
      "_model_module_version": "1.5.0",
      "_model_name": "ProgressStyleModel",
      "_view_count": null,
      "_view_module": "@jupyter-widgets/base",
      "_view_module_version": "1.2.0",
      "_view_name": "StyleView",
      "bar_color": null,
      "description_width": ""
     }
    },
    "3911c88568ba4a3785aade7cafaa2e46": {
     "model_module": "@jupyter-widgets/base",
     "model_module_version": "1.2.0",
     "model_name": "LayoutModel",
     "state": {
      "_model_module": "@jupyter-widgets/base",
      "_model_module_version": "1.2.0",
      "_model_name": "LayoutModel",
      "_view_count": null,
      "_view_module": "@jupyter-widgets/base",
      "_view_module_version": "1.2.0",
      "_view_name": "LayoutView",
      "align_content": null,
      "align_items": null,
      "align_self": null,
      "border": null,
      "bottom": null,
      "display": null,
      "flex": null,
      "flex_flow": null,
      "grid_area": null,
      "grid_auto_columns": null,
      "grid_auto_flow": null,
      "grid_auto_rows": null,
      "grid_column": null,
      "grid_gap": null,
      "grid_row": null,
      "grid_template_areas": null,
      "grid_template_columns": null,
      "grid_template_rows": null,
      "height": null,
      "justify_content": null,
      "justify_items": null,
      "left": null,
      "margin": null,
      "max_height": null,
      "max_width": null,
      "min_height": null,
      "min_width": null,
      "object_fit": null,
      "object_position": null,
      "order": null,
      "overflow": null,
      "overflow_x": null,
      "overflow_y": null,
      "padding": null,
      "right": null,
      "top": null,
      "visibility": null,
      "width": null
     }
    },
    "47ad35ba6b634619b0b70eb9e7f2f841": {
     "model_module": "@jupyter-widgets/base",
     "model_module_version": "1.2.0",
     "model_name": "LayoutModel",
     "state": {
      "_model_module": "@jupyter-widgets/base",
      "_model_module_version": "1.2.0",
      "_model_name": "LayoutModel",
      "_view_count": null,
      "_view_module": "@jupyter-widgets/base",
      "_view_module_version": "1.2.0",
      "_view_name": "LayoutView",
      "align_content": null,
      "align_items": null,
      "align_self": null,
      "border": null,
      "bottom": null,
      "display": null,
      "flex": null,
      "flex_flow": null,
      "grid_area": null,
      "grid_auto_columns": null,
      "grid_auto_flow": null,
      "grid_auto_rows": null,
      "grid_column": null,
      "grid_gap": null,
      "grid_row": null,
      "grid_template_areas": null,
      "grid_template_columns": null,
      "grid_template_rows": null,
      "height": null,
      "justify_content": null,
      "justify_items": null,
      "left": null,
      "margin": null,
      "max_height": null,
      "max_width": null,
      "min_height": null,
      "min_width": null,
      "object_fit": null,
      "object_position": null,
      "order": null,
      "overflow": null,
      "overflow_x": null,
      "overflow_y": null,
      "padding": null,
      "right": null,
      "top": null,
      "visibility": null,
      "width": null
     }
    },
    "4ba7c72074414947a7563477d838cad9": {
     "model_module": "@jupyter-widgets/controls",
     "model_module_version": "1.5.0",
     "model_name": "HTMLModel",
     "state": {
      "_dom_classes": [],
      "_model_module": "@jupyter-widgets/controls",
      "_model_module_version": "1.5.0",
      "_model_name": "HTMLModel",
      "_view_count": null,
      "_view_module": "@jupyter-widgets/controls",
      "_view_module_version": "1.5.0",
      "_view_name": "HTMLView",
      "description": "",
      "description_tooltip": null,
      "layout": "IPY_MODEL_9a55dc89ccdf49448ed221a337085d4b",
      "placeholder": "​",
      "style": "IPY_MODEL_95994340c8eb49849c734b95d9bb037b",
      "value": " 10570/10570 [03:47&lt;00:00, 40.63it/s]"
     }
    },
    "5162ce4dfb90453c81caf4768df02853": {
     "model_module": "@jupyter-widgets/base",
     "model_module_version": "1.2.0",
     "model_name": "LayoutModel",
     "state": {
      "_model_module": "@jupyter-widgets/base",
      "_model_module_version": "1.2.0",
      "_model_name": "LayoutModel",
      "_view_count": null,
      "_view_module": "@jupyter-widgets/base",
      "_view_module_version": "1.2.0",
      "_view_name": "LayoutView",
      "align_content": null,
      "align_items": null,
      "align_self": null,
      "border": null,
      "bottom": null,
      "display": null,
      "flex": null,
      "flex_flow": null,
      "grid_area": null,
      "grid_auto_columns": null,
      "grid_auto_flow": null,
      "grid_auto_rows": null,
      "grid_column": null,
      "grid_gap": null,
      "grid_row": null,
      "grid_template_areas": null,
      "grid_template_columns": null,
      "grid_template_rows": null,
      "height": null,
      "justify_content": null,
      "justify_items": null,
      "left": null,
      "margin": null,
      "max_height": null,
      "max_width": null,
      "min_height": null,
      "min_width": null,
      "object_fit": null,
      "object_position": null,
      "order": null,
      "overflow": null,
      "overflow_x": null,
      "overflow_y": null,
      "padding": null,
      "right": null,
      "top": null,
      "visibility": null,
      "width": null
     }
    },
    "569d95aa1acf4f68886f99047095c0e0": {
     "model_module": "@jupyter-widgets/controls",
     "model_module_version": "1.5.0",
     "model_name": "HTMLModel",
     "state": {
      "_dom_classes": [],
      "_model_module": "@jupyter-widgets/controls",
      "_model_module_version": "1.5.0",
      "_model_name": "HTMLModel",
      "_view_count": null,
      "_view_module": "@jupyter-widgets/controls",
      "_view_module_version": "1.5.0",
      "_view_name": "HTMLView",
      "description": "",
      "description_tooltip": null,
      "layout": "IPY_MODEL_28f021d0a784493ca08a5bbedd8ce7e1",
      "placeholder": "​",
      "style": "IPY_MODEL_24c30fbc4d214c47889ab8ea0fc166c3",
      "value": "100%"
     }
    },
    "57ed57d346a4406294a05091b2562023": {
     "model_module": "@jupyter-widgets/controls",
     "model_module_version": "1.5.0",
     "model_name": "HTMLModel",
     "state": {
      "_dom_classes": [],
      "_model_module": "@jupyter-widgets/controls",
      "_model_module_version": "1.5.0",
      "_model_name": "HTMLModel",
      "_view_count": null,
      "_view_module": "@jupyter-widgets/controls",
      "_view_module_version": "1.5.0",
      "_view_name": "HTMLView",
      "description": "",
      "description_tooltip": null,
      "layout": "IPY_MODEL_5acf9f76d8094744af4ad993fab4c405",
      "placeholder": "​",
      "style": "IPY_MODEL_05c6a35d0b6943219d2ce76f0b2dd624",
      "value": " 0/87599 [00:00&lt;?, ?it/s]"
     }
    },
    "5acf9f76d8094744af4ad993fab4c405": {
     "model_module": "@jupyter-widgets/base",
     "model_module_version": "1.2.0",
     "model_name": "LayoutModel",
     "state": {
      "_model_module": "@jupyter-widgets/base",
      "_model_module_version": "1.2.0",
      "_model_name": "LayoutModel",
      "_view_count": null,
      "_view_module": "@jupyter-widgets/base",
      "_view_module_version": "1.2.0",
      "_view_name": "LayoutView",
      "align_content": null,
      "align_items": null,
      "align_self": null,
      "border": null,
      "bottom": null,
      "display": null,
      "flex": null,
      "flex_flow": null,
      "grid_area": null,
      "grid_auto_columns": null,
      "grid_auto_flow": null,
      "grid_auto_rows": null,
      "grid_column": null,
      "grid_gap": null,
      "grid_row": null,
      "grid_template_areas": null,
      "grid_template_columns": null,
      "grid_template_rows": null,
      "height": null,
      "justify_content": null,
      "justify_items": null,
      "left": null,
      "margin": null,
      "max_height": null,
      "max_width": null,
      "min_height": null,
      "min_width": null,
      "object_fit": null,
      "object_position": null,
      "order": null,
      "overflow": null,
      "overflow_x": null,
      "overflow_y": null,
      "padding": null,
      "right": null,
      "top": null,
      "visibility": null,
      "width": null
     }
    },
    "6b36844bdfa8470b911c869bb2d5c8d5": {
     "model_module": "@jupyter-widgets/controls",
     "model_module_version": "1.5.0",
     "model_name": "DescriptionStyleModel",
     "state": {
      "_model_module": "@jupyter-widgets/controls",
      "_model_module_version": "1.5.0",
      "_model_name": "DescriptionStyleModel",
      "_view_count": null,
      "_view_module": "@jupyter-widgets/base",
      "_view_module_version": "1.2.0",
      "_view_name": "StyleView",
      "description_width": ""
     }
    },
    "6ebefeae64274d259abf6d5eedf34870": {
     "model_module": "@jupyter-widgets/controls",
     "model_module_version": "1.5.0",
     "model_name": "FloatProgressModel",
     "state": {
      "_dom_classes": [],
      "_model_module": "@jupyter-widgets/controls",
      "_model_module_version": "1.5.0",
      "_model_name": "FloatProgressModel",
      "_view_count": null,
      "_view_module": "@jupyter-widgets/controls",
      "_view_module_version": "1.5.0",
      "_view_name": "ProgressView",
      "bar_style": "success",
      "description": "",
      "description_tooltip": null,
      "layout": "IPY_MODEL_3911c88568ba4a3785aade7cafaa2e46",
      "max": 2,
      "min": 0,
      "orientation": "horizontal",
      "style": "IPY_MODEL_93fa49d5633a413ebc2980613523922b",
      "value": 2
     }
    },
    "7d481e110bcb4d968e08636909cb9ce5": {
     "model_module": "@jupyter-widgets/base",
     "model_module_version": "1.2.0",
     "model_name": "LayoutModel",
     "state": {
      "_model_module": "@jupyter-widgets/base",
      "_model_module_version": "1.2.0",
      "_model_name": "LayoutModel",
      "_view_count": null,
      "_view_module": "@jupyter-widgets/base",
      "_view_module_version": "1.2.0",
      "_view_name": "LayoutView",
      "align_content": null,
      "align_items": null,
      "align_self": null,
      "border": null,
      "bottom": null,
      "display": null,
      "flex": null,
      "flex_flow": null,
      "grid_area": null,
      "grid_auto_columns": null,
      "grid_auto_flow": null,
      "grid_auto_rows": null,
      "grid_column": null,
      "grid_gap": null,
      "grid_row": null,
      "grid_template_areas": null,
      "grid_template_columns": null,
      "grid_template_rows": null,
      "height": null,
      "justify_content": null,
      "justify_items": null,
      "left": null,
      "margin": null,
      "max_height": null,
      "max_width": null,
      "min_height": null,
      "min_width": null,
      "object_fit": null,
      "object_position": null,
      "order": null,
      "overflow": null,
      "overflow_x": null,
      "overflow_y": null,
      "padding": null,
      "right": null,
      "top": null,
      "visibility": null,
      "width": null
     }
    },
    "86c8f6d0619443b9b06486caa3f4e4ac": {
     "model_module": "@jupyter-widgets/controls",
     "model_module_version": "1.5.0",
     "model_name": "HBoxModel",
     "state": {
      "_dom_classes": [],
      "_model_module": "@jupyter-widgets/controls",
      "_model_module_version": "1.5.0",
      "_model_name": "HBoxModel",
      "_view_count": null,
      "_view_module": "@jupyter-widgets/controls",
      "_view_module_version": "1.5.0",
      "_view_name": "HBoxView",
      "box_style": "",
      "children": [
       "IPY_MODEL_569d95aa1acf4f68886f99047095c0e0",
       "IPY_MODEL_6ebefeae64274d259abf6d5eedf34870",
       "IPY_MODEL_874649ac320444a3ada91056fa302dcd"
      ],
      "layout": "IPY_MODEL_0c9ba24b317244119255b31753489967"
     }
    },
    "874649ac320444a3ada91056fa302dcd": {
     "model_module": "@jupyter-widgets/controls",
     "model_module_version": "1.5.0",
     "model_name": "HTMLModel",
     "state": {
      "_dom_classes": [],
      "_model_module": "@jupyter-widgets/controls",
      "_model_module_version": "1.5.0",
      "_model_name": "HTMLModel",
      "_view_count": null,
      "_view_module": "@jupyter-widgets/controls",
      "_view_module_version": "1.5.0",
      "_view_name": "HTMLView",
      "description": "",
      "description_tooltip": null,
      "layout": "IPY_MODEL_47ad35ba6b634619b0b70eb9e7f2f841",
      "placeholder": "​",
      "style": "IPY_MODEL_d25dd1534ef549e39fdc61bf35793cbe",
      "value": " 2/2 [00:00&lt;00:00, 26.33it/s]"
     }
    },
    "93fa49d5633a413ebc2980613523922b": {
     "model_module": "@jupyter-widgets/controls",
     "model_module_version": "1.5.0",
     "model_name": "ProgressStyleModel",
     "state": {
      "_model_module": "@jupyter-widgets/controls",
      "_model_module_version": "1.5.0",
      "_model_name": "ProgressStyleModel",
      "_view_count": null,
      "_view_module": "@jupyter-widgets/base",
      "_view_module_version": "1.2.0",
      "_view_name": "StyleView",
      "bar_color": null,
      "description_width": ""
     }
    },
    "95994340c8eb49849c734b95d9bb037b": {
     "model_module": "@jupyter-widgets/controls",
     "model_module_version": "1.5.0",
     "model_name": "DescriptionStyleModel",
     "state": {
      "_model_module": "@jupyter-widgets/controls",
      "_model_module_version": "1.5.0",
      "_model_name": "DescriptionStyleModel",
      "_view_count": null,
      "_view_module": "@jupyter-widgets/base",
      "_view_module_version": "1.2.0",
      "_view_name": "StyleView",
      "description_width": ""
     }
    },
    "9a55dc89ccdf49448ed221a337085d4b": {
     "model_module": "@jupyter-widgets/base",
     "model_module_version": "1.2.0",
     "model_name": "LayoutModel",
     "state": {
      "_model_module": "@jupyter-widgets/base",
      "_model_module_version": "1.2.0",
      "_model_name": "LayoutModel",
      "_view_count": null,
      "_view_module": "@jupyter-widgets/base",
      "_view_module_version": "1.2.0",
      "_view_name": "LayoutView",
      "align_content": null,
      "align_items": null,
      "align_self": null,
      "border": null,
      "bottom": null,
      "display": null,
      "flex": null,
      "flex_flow": null,
      "grid_area": null,
      "grid_auto_columns": null,
      "grid_auto_flow": null,
      "grid_auto_rows": null,
      "grid_column": null,
      "grid_gap": null,
      "grid_row": null,
      "grid_template_areas": null,
      "grid_template_columns": null,
      "grid_template_rows": null,
      "height": null,
      "justify_content": null,
      "justify_items": null,
      "left": null,
      "margin": null,
      "max_height": null,
      "max_width": null,
      "min_height": null,
      "min_width": null,
      "object_fit": null,
      "object_position": null,
      "order": null,
      "overflow": null,
      "overflow_x": null,
      "overflow_y": null,
      "padding": null,
      "right": null,
      "top": null,
      "visibility": null,
      "width": null
     }
    },
    "a59ca022f1d44abe874325f0f1d9d714": {
     "model_module": "@jupyter-widgets/controls",
     "model_module_version": "1.5.0",
     "model_name": "ProgressStyleModel",
     "state": {
      "_model_module": "@jupyter-widgets/controls",
      "_model_module_version": "1.5.0",
      "_model_name": "ProgressStyleModel",
      "_view_count": null,
      "_view_module": "@jupyter-widgets/base",
      "_view_module_version": "1.2.0",
      "_view_name": "StyleView",
      "bar_color": null,
      "description_width": ""
     }
    },
    "b3d10ccf12e14a65a48229e47774d4ba": {
     "model_module": "@jupyter-widgets/controls",
     "model_module_version": "1.5.0",
     "model_name": "DescriptionStyleModel",
     "state": {
      "_model_module": "@jupyter-widgets/controls",
      "_model_module_version": "1.5.0",
      "_model_name": "DescriptionStyleModel",
      "_view_count": null,
      "_view_module": "@jupyter-widgets/base",
      "_view_module_version": "1.2.0",
      "_view_name": "StyleView",
      "description_width": ""
     }
    },
    "cef53a93662e4628812739d63e6b6077": {
     "model_module": "@jupyter-widgets/controls",
     "model_module_version": "1.5.0",
     "model_name": "HTMLModel",
     "state": {
      "_dom_classes": [],
      "_model_module": "@jupyter-widgets/controls",
      "_model_module_version": "1.5.0",
      "_model_name": "HTMLModel",
      "_view_count": null,
      "_view_module": "@jupyter-widgets/controls",
      "_view_module_version": "1.5.0",
      "_view_name": "HTMLView",
      "description": "",
      "description_tooltip": null,
      "layout": "IPY_MODEL_5162ce4dfb90453c81caf4768df02853",
      "placeholder": "​",
      "style": "IPY_MODEL_6b36844bdfa8470b911c869bb2d5c8d5",
      "value": "  0%"
     }
    },
    "d25dd1534ef549e39fdc61bf35793cbe": {
     "model_module": "@jupyter-widgets/controls",
     "model_module_version": "1.5.0",
     "model_name": "DescriptionStyleModel",
     "state": {
      "_model_module": "@jupyter-widgets/controls",
      "_model_module_version": "1.5.0",
      "_model_name": "DescriptionStyleModel",
      "_view_count": null,
      "_view_module": "@jupyter-widgets/base",
      "_view_module_version": "1.2.0",
      "_view_name": "StyleView",
      "description_width": ""
     }
    },
    "eafc09e9d105468b960223dc5a8e851c": {
     "model_module": "@jupyter-widgets/controls",
     "model_module_version": "1.5.0",
     "model_name": "HTMLModel",
     "state": {
      "_dom_classes": [],
      "_model_module": "@jupyter-widgets/controls",
      "_model_module_version": "1.5.0",
      "_model_name": "HTMLModel",
      "_view_count": null,
      "_view_module": "@jupyter-widgets/controls",
      "_view_module_version": "1.5.0",
      "_view_name": "HTMLView",
      "description": "",
      "description_tooltip": null,
      "layout": "IPY_MODEL_1db6ee9c58e946baa3ae8edae3ae7a56",
      "placeholder": "​",
      "style": "IPY_MODEL_b3d10ccf12e14a65a48229e47774d4ba",
      "value": "100%"
     }
    },
    "ed4e113c315f482c9066815647ac2aa1": {
     "model_module": "@jupyter-widgets/base",
     "model_module_version": "1.2.0",
     "model_name": "LayoutModel",
     "state": {
      "_model_module": "@jupyter-widgets/base",
      "_model_module_version": "1.2.0",
      "_model_name": "LayoutModel",
      "_view_count": null,
      "_view_module": "@jupyter-widgets/base",
      "_view_module_version": "1.2.0",
      "_view_name": "LayoutView",
      "align_content": null,
      "align_items": null,
      "align_self": null,
      "border": null,
      "bottom": null,
      "display": null,
      "flex": null,
      "flex_flow": null,
      "grid_area": null,
      "grid_auto_columns": null,
      "grid_auto_flow": null,
      "grid_auto_rows": null,
      "grid_column": null,
      "grid_gap": null,
      "grid_row": null,
      "grid_template_areas": null,
      "grid_template_columns": null,
      "grid_template_rows": null,
      "height": null,
      "justify_content": null,
      "justify_items": null,
      "left": null,
      "margin": null,
      "max_height": null,
      "max_width": null,
      "min_height": null,
      "min_width": null,
      "object_fit": null,
      "object_position": null,
      "order": null,
      "overflow": null,
      "overflow_x": null,
      "overflow_y": null,
      "padding": null,
      "right": null,
      "top": null,
      "visibility": null,
      "width": null
     }
    },
    "edcd810a79604ae08ab8ac59f6cff353": {
     "model_module": "@jupyter-widgets/controls",
     "model_module_version": "1.5.0",
     "model_name": "FloatProgressModel",
     "state": {
      "_dom_classes": [],
      "_model_module": "@jupyter-widgets/controls",
      "_model_module_version": "1.5.0",
      "_model_name": "FloatProgressModel",
      "_view_count": null,
      "_view_module": "@jupyter-widgets/controls",
      "_view_module_version": "1.5.0",
      "_view_name": "ProgressView",
      "bar_style": "success",
      "description": "",
      "description_tooltip": null,
      "layout": "IPY_MODEL_ef2d14120bd54e1eb27b6f7d6f7e4144",
      "max": 10570,
      "min": 0,
      "orientation": "horizontal",
      "style": "IPY_MODEL_2a8f6c8493644090b23e31678049ba22",
      "value": 10570
     }
    },
    "ef2d14120bd54e1eb27b6f7d6f7e4144": {
     "model_module": "@jupyter-widgets/base",
     "model_module_version": "1.2.0",
     "model_name": "LayoutModel",
     "state": {
      "_model_module": "@jupyter-widgets/base",
      "_model_module_version": "1.2.0",
      "_model_name": "LayoutModel",
      "_view_count": null,
      "_view_module": "@jupyter-widgets/base",
      "_view_module_version": "1.2.0",
      "_view_name": "LayoutView",
      "align_content": null,
      "align_items": null,
      "align_self": null,
      "border": null,
      "bottom": null,
      "display": null,
      "flex": null,
      "flex_flow": null,
      "grid_area": null,
      "grid_auto_columns": null,
      "grid_auto_flow": null,
      "grid_auto_rows": null,
      "grid_column": null,
      "grid_gap": null,
      "grid_row": null,
      "grid_template_areas": null,
      "grid_template_columns": null,
      "grid_template_rows": null,
      "height": null,
      "justify_content": null,
      "justify_items": null,
      "left": null,
      "margin": null,
      "max_height": null,
      "max_width": null,
      "min_height": null,
      "min_width": null,
      "object_fit": null,
      "object_position": null,
      "order": null,
      "overflow": null,
      "overflow_x": null,
      "overflow_y": null,
      "padding": null,
      "right": null,
      "top": null,
      "visibility": null,
      "width": null
     }
    },
    "f05568ab1e7d46e3b2edef996e907f94": {
     "model_module": "@jupyter-widgets/base",
     "model_module_version": "1.2.0",
     "model_name": "LayoutModel",
     "state": {
      "_model_module": "@jupyter-widgets/base",
      "_model_module_version": "1.2.0",
      "_model_name": "LayoutModel",
      "_view_count": null,
      "_view_module": "@jupyter-widgets/base",
      "_view_module_version": "1.2.0",
      "_view_name": "LayoutView",
      "align_content": null,
      "align_items": null,
      "align_self": null,
      "border": null,
      "bottom": null,
      "display": null,
      "flex": null,
      "flex_flow": null,
      "grid_area": null,
      "grid_auto_columns": null,
      "grid_auto_flow": null,
      "grid_auto_rows": null,
      "grid_column": null,
      "grid_gap": null,
      "grid_row": null,
      "grid_template_areas": null,
      "grid_template_columns": null,
      "grid_template_rows": null,
      "height": null,
      "justify_content": null,
      "justify_items": null,
      "left": null,
      "margin": null,
      "max_height": null,
      "max_width": null,
      "min_height": null,
      "min_width": null,
      "object_fit": null,
      "object_position": null,
      "order": null,
      "overflow": null,
      "overflow_x": null,
      "overflow_y": null,
      "padding": null,
      "right": null,
      "top": null,
      "visibility": null,
      "width": null
     }
    }
   }
  }
 },
 "nbformat": 4,
 "nbformat_minor": 5
}
